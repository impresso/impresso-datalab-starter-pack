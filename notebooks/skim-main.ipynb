{
  "cells": [
    {
      "cell_type": "markdown",
      "metadata": {},
      "source": [
        "# Impresso Startup Pack\n",
        "\n",
        "Welcome to the Impresso Startup Pack! This Jupyter notebook contains just a couple of examples to get you started with the Impresso API. The Impresso API is a powerful tool to access the Impresso database, which contains millions of pages from historical newspapers. The API allows you to search for articles, retrieve metadata, and download the full text of articles in public domain."
      ]
    },
    {
      "cell_type": "markdown",
      "metadata": {},
      "source": [
        "First thing first. Let's check if the kernel is up and running."
      ]
    },
    {
      "cell_type": "code",
      "execution_count": 5,
      "metadata": {},
      "outputs": [
        {
          "name": "stdout",
          "output_type": "stream",
          "text": [
            "3.11.7\n"
          ]
        }
      ],
      "source": [
        "from platform import python_version\n",
        "print(python_version())"
      ]
    },
    {
      "cell_type": "markdown",
      "metadata": {},
      "source": [
        "Then, let's check if the Impresso API is up and running."
      ]
    },
    {
      "cell_type": "code",
      "execution_count": 6,
      "metadata": {},
      "outputs": [
        {
          "data": {
            "text/plain": [
              "'impresso-v1'"
            ]
          },
          "execution_count": 6,
          "metadata": {},
          "output_type": "execute_result"
        }
      ],
      "source": [
        "import requests\n",
        "res = requests.get(\"https://impresso-project.ch/api/version\")\n",
        "json = res.json()\n",
        "json['version']"
      ]
    },
    {
      "cell_type": "markdown",
      "metadata": {},
      "source": [
        "That's all for now!"
      ]
    },
    {
      "cell_type": "code",
      "execution_count": null,
      "metadata": {},
      "outputs": [],
      "source": []
    }
  ],
  "metadata": {
    "kernelspec": {
      "display_name": "Python 3 (ipykernel)",
      "language": "python",
      "name": "python3"
    },
    "language_info": {
      "codemirror_mode": {
        "name": "ipython",
        "version": 3
      },
      "file_extension": ".py",
      "mimetype": "text/x-python",
      "name": "python",
      "nbconvert_exporter": "python",
      "pygments_lexer": "ipython3",
      "version": "3.11.7"
    }
  },
  "nbformat": 4,
  "nbformat_minor": 4
}