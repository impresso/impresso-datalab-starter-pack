{
 "cells": [
  {
   "cell_type": "markdown",
   "metadata": {},
   "source": [
    "# Impresso Startup Pack\n",
    "\n",
    "Welcome to the Impresso Startup Pack! This Jupyter notebook contains just a couple of examples to get you started with the Impresso API. The Impresso API is a powerful tool to access the Impresso database, which contains millions of pages from historical newspapers. The API allows you to search for articles, retrieve metadata, and download the full text of articles in public domain."
   ]
  },
  {
   "cell_type": "markdown",
   "metadata": {},
   "source": []
  }
 ],
 "metadata": {
  "language_info": {
   "name": "python"
  }
 },
 "nbformat": 4,
 "nbformat_minor": 2
}
